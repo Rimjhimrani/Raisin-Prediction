{
 "cells": [
  {
   "cell_type": "code",
   "execution_count": 1,
   "id": "0b90b2d3",
   "metadata": {},
   "outputs": [],
   "source": [
    "from tkinter import *\n",
    "import tkinter.messagebox\n",
    "import numpy as np\n",
    "import matplotlib.pyplot as plt\n",
    "import joblib\n",
    "import pandas as pd\n",
    "import warnings\n",
    "warnings.filterwarnings('ignore')"
   ]
  },
  {
   "cell_type": "code",
   "execution_count": null,
   "id": "6987245e",
   "metadata": {},
   "outputs": [],
   "source": [
    "top = Tk()\n",
    "top.title('Raisin Classification')\n",
    "top.geometry(\"900x500\")\n",
    "top.resizable(0, 0)\n",
    "\n",
    "# Deserialization\n",
    "classifier = joblib.load('classifier.model')\n",
    "scaler = joblib.load('scaler.model')\n",
    "def check():\n",
    "    global a, b, c, d\n",
    "    new = np.array([[a.get(), b.get(), c.get(), d.get()]])\n",
    "    new = pd.DataFrame({\n",
    "        'Area':[a.get()], \n",
    "        'MajorAxisLength':[b.get()], \n",
    "        'ConvexArea':[c.get()], \n",
    "        'Perimeter':[d.get()]\n",
    "    })\n",
    "    y_pred = classifier.predict(scaler.transform(new))\n",
    "    if y_pred[0] == 'Kecimen':\n",
    "        tkinter.messagebox.showinfo('Result','The Class is Kecimen')\n",
    "    elif y_pred[0] == 'Besni':\n",
    "        tkinter.messagebox.showinfo('Result','The Class is Besni')\n",
    "\n",
    "a = DoubleVar()\n",
    "b = DoubleVar()\n",
    "c = DoubleVar()\n",
    "d = DoubleVar()\n",
    "Label(top, text=\"RAISIN CLASSIFICATION\", \n",
    "      font=('Ubuntu', 25)).place(x=120,y=30)\n",
    "Label(top, text=\"Area:\", \n",
    "      font=('courier', 16)).place(x=20,y=100)\n",
    "Entry(top, textvariable=a, font=('courier', 16)).place(x=280,y=100)\n",
    "Label(top, text=\"MajorAxisLength:\", font=('courier', 16)).place(x=20,y=150)\n",
    "Entry(top, textvariable=b, font=('courier', 16)).place(x=280,y=150)\n",
    "Label(top, text=\"ConvexArea:\", font=('courier', 16)).place(x=20,y=200)\n",
    "Entry(top, textvariable=c, font=('courier', 16)).place(x=280,y=200)\n",
    "Label(top, text=\"Perimeter\",font=('courier', 16)).place(x=20,y=250)\n",
    "Entry(top, textvariable=d, font=('courier', 16)).place(x=280,y=250)\n",
    "\n",
    "Button(top, text=\"--Check--\", \n",
    "       font=('courier', 16, 'bold'), command=check).place(x=250,y=400)\n",
    "\n",
    "top.mainloop()"
   ]
  },
  {
   "cell_type": "code",
   "execution_count": null,
   "id": "f4741f38",
   "metadata": {},
   "outputs": [],
   "source": []
  }
 ],
 "metadata": {
  "kernelspec": {
   "display_name": "Python 3 (ipykernel)",
   "language": "python",
   "name": "python3"
  },
  "language_info": {
   "codemirror_mode": {
    "name": "ipython",
    "version": 3
   },
   "file_extension": ".py",
   "mimetype": "text/x-python",
   "name": "python",
   "nbconvert_exporter": "python",
   "pygments_lexer": "ipython3",
   "version": "3.10.9"
  }
 },
 "nbformat": 4,
 "nbformat_minor": 5
}
